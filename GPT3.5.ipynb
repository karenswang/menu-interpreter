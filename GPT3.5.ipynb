{
 "cells": [
  {
   "cell_type": "code",
   "execution_count": 33,
   "id": "c5d6e93e",
   "metadata": {},
   "outputs": [
    {
     "name": "stdout",
     "output_type": "stream",
     "text": [
      "Requirement already satisfied: openai in /opt/anaconda3/lib/python3.9/site-packages (0.28.1)\r\n",
      "Requirement already satisfied: aiohttp in /opt/anaconda3/lib/python3.9/site-packages (from openai) (3.8.5)\r\n",
      "Requirement already satisfied: requests>=2.20 in /opt/anaconda3/lib/python3.9/site-packages (from openai) (2.28.1)\r\n",
      "Requirement already satisfied: tqdm in /opt/anaconda3/lib/python3.9/site-packages (from openai) (4.64.1)\r\n",
      "Requirement already satisfied: certifi>=2017.4.17 in /opt/anaconda3/lib/python3.9/site-packages (from requests>=2.20->openai) (2023.7.22)\r\n",
      "Requirement already satisfied: charset-normalizer<3,>=2 in /opt/anaconda3/lib/python3.9/site-packages (from requests>=2.20->openai) (2.0.4)\r\n",
      "Requirement already satisfied: urllib3<1.27,>=1.21.1 in /opt/anaconda3/lib/python3.9/site-packages (from requests>=2.20->openai) (1.26.18)\r\n",
      "Requirement already satisfied: idna<4,>=2.5 in /opt/anaconda3/lib/python3.9/site-packages (from requests>=2.20->openai) (3.3)\r\n",
      "Requirement already satisfied: attrs>=17.3.0 in /opt/anaconda3/lib/python3.9/site-packages (from aiohttp->openai) (21.4.0)\r\n",
      "Requirement already satisfied: aiosignal>=1.1.2 in /opt/anaconda3/lib/python3.9/site-packages (from aiohttp->openai) (1.3.1)\r\n",
      "Requirement already satisfied: frozenlist>=1.1.1 in /opt/anaconda3/lib/python3.9/site-packages (from aiohttp->openai) (1.4.0)\r\n",
      "Requirement already satisfied: async-timeout<5.0,>=4.0.0a3 in /opt/anaconda3/lib/python3.9/site-packages (from aiohttp->openai) (4.0.3)\r\n",
      "Requirement already satisfied: multidict<7.0,>=4.5 in /opt/anaconda3/lib/python3.9/site-packages (from aiohttp->openai) (6.0.4)\r\n",
      "Requirement already satisfied: yarl<2.0,>=1.0 in /opt/anaconda3/lib/python3.9/site-packages (from aiohttp->openai) (1.9.2)\r\n"
     ]
    }
   ],
   "source": [
    "!pip install openai\n",
    "import openai\n",
    "import os\n",
    "from openai.embeddings_utils import (\n",
    "    get_embedding,\n",
    "    distances_from_embeddings,\n",
    "    tsne_components_from_embeddings,\n",
    "    pca_components_from_embeddings,\n",
    "    chart_from_components,\n",
    "    indices_of_nearest_neighbors_from_distances,\n",
    "    chart_from_components_3D\n",
    ")"
   ]
  },
  {
   "cell_type": "code",
   "execution_count": 35,
   "id": "4cc14c21",
   "metadata": {},
   "outputs": [],
   "source": [
    "OPENAI_API_KEY = \"\"\n",
    "openai.api_key = OPENAI_API_KEY "
   ]
  },
  {
   "cell_type": "code",
   "execution_count": 14,
   "id": "fbfd2264",
   "metadata": {},
   "outputs": [],
   "source": [
    "menu_database = {\n",
    "    \"Restaurant A\": {\n",
    "        \"Appetizer\": {\n",
    "            \"Bruschetta with Tomato and Basil\": [\"Baguette\", \"Tomato\", \"Basil\", \"Garlic\"],\n",
    "            \"Garlic Butter Shrimp\": [\"Shrimp\", \"Garlic\", \"Butter\", \"Parsley\"],\n",
    "            \"Caprese Salad\": [\"Tomato\", \"Mozzarella\", \"Basil\", \"Balsamic Glaze\"]\n",
    "        },\n",
    "        \"Salad & Soup\": {\n",
    "            \"Caesar Salad\": [\"Romaine Lettuce\", \"Croutons\", \"Parmesan Cheese\", \"Caesar Dressing\"],\n",
    "            \"Tomato Bisque\": [\"Tomatoes\", \"Cream\", \"Onion\", \"Garlic\"],\n",
    "            \"French Onion Soup\": [\"Onions\", \"Beef Broth\", \"Cheese\", \"Bread\"]\n",
    "        },\n",
    "        \"Main\": {\n",
    "            \"Grilled Salmon with Lemon Butter\": [\"Salmon\", \"Lemon\", \"Butter\", \"Asparagus\"],\n",
    "            \"Pasta Alfredo with Chicken\": [\"Pasta\", \"Chicken\", \"Cream Sauce\", \"Parmesan Cheese\"],\n",
    "            \"Filet Mignon with Mushroom Sauce\": [\"Beef\", \"Mushroom Sauce\", \"Potatoes\", \"Green Beans\"]\n",
    "        },\n",
    "        \"Dessert\": {\n",
    "            \"Tiramisu\": [\"Ladyfingers\", \"Coffee\", \"Mascarpone Cheese\", \"Cocoa Powder\"],\n",
    "            \"Chocolate Fondue\": [\"Chocolate\", \"Strawberries\", \"Banana\", \"Marshmallows\"],\n",
    "            \"New York Cheesecake\": [\"Cream Cheese\", \"Graham Cracker Crust\", \"Sour Cream\", \"Raspberry Sauce\"]\n",
    "        }\n",
    "    },\n",
    "    \"Restaurant B\": {\n",
    "        \"Appetizer\": {\n",
    "            \"Spinach and Artichoke Dip\": [\"Spinach\", \"Artichoke Hearts\", \"Cream Cheese\", \"Parmesan\"],\n",
    "            \"Mozzarella Sticks\": [\"Mozzarella Cheese\", \"Breadcrumbs\", \"Marinara Sauce\"],\n",
    "            \"Stuffed Mushrooms\": [\"Mushrooms\", \"Sausage\", \"Cream Cheese\", \"Garlic\"]\n",
    "        },\n",
    "        \"Salad & Soup\": {\n",
    "            \"Greek Salad\": [\"Romaine Lettuce\", \"Kalamata Olives\", \"Feta Cheese\", \"Greek Dressing\"],\n",
    "            \"Chicken Noodle Soup\": [\"Chicken\", \"Egg Noodles\", \"Carrots\", \"Celery\"],\n",
    "            \"Clam Chowder\": [\"Clams\", \"Potatoes\", \"Bacon\", \"Cream\"]\n",
    "        },\n",
    "        \"Main\": {\n",
    "            \"Grilled Ribeye Steak\": [\"Ribeye Steak\", \"Seasoning\", \"Mashed Potatoes\", \"Green Beans\"],\n",
    "            \"Shrimp Scampi\": [\"Shrimp\", \"Garlic\", \"White Wine\", \"Linguine\"],\n",
    "            \"Vegetable Stir-Fry\": [\"Assorted Vegetables\", \"Tofu\", \"Soy Sauce\", \"Rice\"]\n",
    "        },\n",
    "        \"Dessert\": {\n",
    "            \"Chocolate Lava Cake\": [\"Chocolate Cake\", \"Molten Chocolate Center\", \"Vanilla Ice Cream\"],\n",
    "            \"Key Lime Pie\": [\"Key Lime Filling\", \"Graham Cracker Crust\", \"Whipped Cream\"],\n",
    "            \"Fruit Sorbet\": [\"Assorted Fruit Flavors\", \"Sorbet\"]\n",
    "        }\n",
    "    }\n",
    "}\n",
    "\n",
    "\n",
    "restaurant_A_menu = menu_database[\"Restaurant A\"]\n",
    "restaurant_B_menu = menu_database[\"Restaurant B\"]\n"
   ]
  },
  {
   "cell_type": "code",
   "execution_count": 15,
   "id": "8db6a850",
   "metadata": {},
   "outputs": [],
   "source": [
    "user1={\n",
    "  \"user_id\": 1,\n",
    "  \"name\": \"John\",\n",
    "  \"diet\": \"Vegetarian\",\n",
    "  \"allergy\": [\"Peanuts\", \"Shellfish\"],\n",
    "  \"favorite_cuisine\": \"Italian\"\n",
    "}\n"
   ]
  },
  {
   "cell_type": "code",
   "execution_count": 27,
   "id": "0b77493b",
   "metadata": {},
   "outputs": [],
   "source": [
    "import json"
   ]
  },
  {
   "cell_type": "code",
   "execution_count": 24,
   "id": "bf83cf2a",
   "metadata": {},
   "outputs": [],
   "source": [
    "selected_restaurant = \"Restaurant A\"\n",
    "selected_menu = menu_database[selected_restaurant]\n",
    "question = \"Based on the user's dietary preferences, allergies, recommend dishes from the selected restaurant menu.\""
   ]
  },
  {
   "cell_type": "code",
   "execution_count": 28,
   "id": "15b8880b",
   "metadata": {},
   "outputs": [],
   "source": [
    "\n",
    "user_context = f\"Question: {question}\\n\\n\"\n",
    "user_context += \"Answer the question using the selected restaurant menu and user information below as sources.\\n\"\n",
    "user_context += \"\\n\"  \n",
    "user_context += \"###\\n\"\n",
    "\n",
    "\n",
    "user_context += f\"Selected Restaurant Menu:\\n\"\n",
    "user_context += json.dumps(selected_menu, indent=2)\n",
    "user_context += \"\\n\\n\"\n",
    "\n",
    "user_context += \"User Information:\\n\"\n",
    "user_context += json.dumps(user1, indent=2)  \n",
    "user_context += \"\\n\"\n",
    "\n",
    "user_context += \"###\\n\"\n",
    "\n",
    "user_prompt = {\"role\": \"user\", \"content\": user_context}\n"
   ]
  },
  {
   "cell_type": "code",
   "execution_count": 30,
   "id": "5547f00a",
   "metadata": {},
   "outputs": [
    {
     "data": {
      "text/plain": [
       "{'Appetizer': {'Bruschetta with Tomato and Basil': ['Baguette',\n",
       "   'Tomato',\n",
       "   'Basil',\n",
       "   'Garlic'],\n",
       "  'Garlic Butter Shrimp': ['Shrimp', 'Garlic', 'Butter', 'Parsley'],\n",
       "  'Caprese Salad': ['Tomato', 'Mozzarella', 'Basil', 'Balsamic Glaze']},\n",
       " 'Salad & Soup': {'Caesar Salad': ['Romaine Lettuce',\n",
       "   'Croutons',\n",
       "   'Parmesan Cheese',\n",
       "   'Caesar Dressing'],\n",
       "  'Tomato Bisque': ['Tomatoes', 'Cream', 'Onion', 'Garlic'],\n",
       "  'French Onion Soup': ['Onions', 'Beef Broth', 'Cheese', 'Bread']},\n",
       " 'Main': {'Grilled Salmon with Lemon Butter': ['Salmon',\n",
       "   'Lemon',\n",
       "   'Butter',\n",
       "   'Asparagus'],\n",
       "  'Pasta Alfredo with Chicken': ['Pasta',\n",
       "   'Chicken',\n",
       "   'Cream Sauce',\n",
       "   'Parmesan Cheese'],\n",
       "  'Filet Mignon with Mushroom Sauce': ['Beef',\n",
       "   'Mushroom Sauce',\n",
       "   'Potatoes',\n",
       "   'Green Beans']},\n",
       " 'Dessert': {'Tiramisu': ['Ladyfingers',\n",
       "   'Coffee',\n",
       "   'Mascarpone Cheese',\n",
       "   'Cocoa Powder'],\n",
       "  'Chocolate Fondue': ['Chocolate', 'Strawberries', 'Banana', 'Marshmallows'],\n",
       "  'New York Cheesecake': ['Cream Cheese',\n",
       "   'Graham Cracker Crust',\n",
       "   'Sour Cream',\n",
       "   'Raspberry Sauce']}}"
      ]
     },
     "execution_count": 30,
     "metadata": {},
     "output_type": "execute_result"
    }
   ],
   "source": [
    "selected_menu"
   ]
  },
  {
   "cell_type": "code",
   "execution_count": null,
   "id": "357cd12f",
   "metadata": {},
   "outputs": [],
   "source": []
  },
  {
   "cell_type": "code",
   "execution_count": 31,
   "id": "09391314",
   "metadata": {},
   "outputs": [],
   "source": [
    "system_instruction = \"\"\"\n",
    "Generate a list of recommended dishes from the selected restaurant menu for the user, considering the following criteria:\n",
    "\n",
    "1. Dishes that align with the user's dietary preferences and do not contain any of their allergens. These safe dishes form the primary recommendations as they are safe for the user to consume.\n",
    "\n",
    "2. Within the safe dishes, identify those that also match the user's favorite cuisine preference. Present these dishes in a separate section titled 'Favorites', emphasizing them as they are likely the user's preferred choices.\n",
    "\n",
    "3. Additionally, identify and list any dishes that might contain allergens as specified by the user. Place these dishes in a section titled 'Dishes with Allergen Warning', clearly indicating the need for the user to avoid them due to potential allergic reactions.\n",
    "\n",
    "Please structure the recommendations as follows:\n",
    "\n",
    "- Begin with a section titled 'Safe and Recommended Dishes', listing all dishes that align with the user's dietary preferences and are free of their allergens.\n",
    "- Follow with a section titled 'Favorites', highlighting dishes from the 'Safe and Recommended Dishes' that also align with the user's favorite cuisine.\n",
    "- Conclude with a section titled 'Dishes with Allergen Warning', listing dishes that may contain any of the allergens specified by the user.\n",
    "\n",
    "Ensure the recommendations are clear, concise, and easy to read, following a consistent format throughout the response.\n",
    "\"\"\"\n",
    "system_prompt = {\"role\": \"system\", \"content\": system_instruction}"
   ]
  },
  {
   "cell_type": "code",
   "execution_count": 36,
   "id": "09962888",
   "metadata": {},
   "outputs": [],
   "source": [
    "response = openai.ChatCompletion.create(\n",
    "  model=\"gpt-3.5-turbo-16k\",\n",
    "  messages=[system_prompt, user_prompt],\n",
    "  temperature=0,\n",
    "  max_tokens=1000,\n",
    "  top_p=1,\n",
    "  frequency_penalty=0,\n",
    "  presence_penalty=0\n",
    ")\n",
    "response_message = response[\"choices\"][0][\"message\"][\"content\"]  "
   ]
  },
  {
   "cell_type": "code",
   "execution_count": 37,
   "id": "8934acc7",
   "metadata": {},
   "outputs": [
    {
     "name": "stdout",
     "output_type": "stream",
     "text": [
      "Based on your dietary preferences and allergies, here are some recommended dishes from the selected restaurant menu:\n",
      "\n",
      "Safe and Recommended Dishes:\n",
      "- Bruschetta with Tomato and Basil: Baguette, Tomato, Basil, Garlic\n",
      "- Caprese Salad: Tomato, Mozzarella, Basil, Balsamic Glaze\n",
      "- Caesar Salad: Romaine Lettuce, Croutons, Parmesan Cheese, Caesar Dressing\n",
      "\n",
      "Favorites:\n",
      "- Bruschetta with Tomato and Basil: Baguette, Tomato, Basil, Garlic\n",
      "- Caprese Salad: Tomato, Mozzarella, Basil, Balsamic Glaze\n",
      "\n",
      "Dishes with Allergen Warning:\n",
      "- Garlic Butter Shrimp: Shrimp, Garlic, Butter, Parsley\n",
      "\n",
      "Please note that the Garlic Butter Shrimp contains shellfish, which is one of your allergens. It is important to avoid this dish to prevent any allergic reactions.\n",
      "\n",
      "Enjoy your meal!\n"
     ]
    }
   ],
   "source": [
    "print(response_message )"
   ]
  }
 ],
 "metadata": {
  "kernelspec": {
   "display_name": "Python 3 (ipykernel)",
   "language": "python",
   "name": "python3"
  },
  "language_info": {
   "codemirror_mode": {
    "name": "ipython",
    "version": 3
   },
   "file_extension": ".py",
   "mimetype": "text/x-python",
   "name": "python",
   "nbconvert_exporter": "python",
   "pygments_lexer": "ipython3",
   "version": "3.9.13"
  }
 },
 "nbformat": 4,
 "nbformat_minor": 5
}
